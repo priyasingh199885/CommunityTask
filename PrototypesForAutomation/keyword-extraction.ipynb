{
 "cells": [
  {
   "cell_type": "code",
   "execution_count": 7,
   "id": "7547cde7",
   "metadata": {
    "ExecuteTime": {
     "end_time": "2023-07-28T15:04:44.901706700Z",
     "start_time": "2023-07-28T15:04:44.897443Z"
    }
   },
   "outputs": [],
   "source": [
    "from llm_commons.langchain.btp_llm import init_llm"
   ]
  },
  {
   "cell_type": "code",
   "execution_count": 8,
   "id": "176b8e8b",
   "metadata": {
    "ExecuteTime": {
     "end_time": "2023-07-28T15:04:44.912019500Z",
     "start_time": "2023-07-28T15:04:44.906718Z"
    }
   },
   "outputs": [],
   "source": [
    "llm = init_llm('gpt-35-turbo', temperature=0., max_tokens=256)"
   ]
  },
  {
   "cell_type": "code",
   "execution_count": 9,
   "id": "c095c33c",
   "metadata": {
    "ExecuteTime": {
     "end_time": "2023-07-28T15:04:44.937945200Z",
     "start_time": "2023-07-28T15:04:44.913022100Z"
    }
   },
   "outputs": [
    {
     "data": {
      "text/plain": "llm_commons.langchain.btp_llm.openai.ChatBTPOpenAI"
     },
     "execution_count": 9,
     "metadata": {},
     "output_type": "execute_result"
    }
   ],
   "source": [
    "type(llm)"
   ]
  },
  {
   "cell_type": "code",
   "execution_count": 10,
   "id": "b9135460",
   "metadata": {
    "ExecuteTime": {
     "end_time": "2023-07-28T15:04:44.937945200Z",
     "start_time": "2023-07-28T15:04:44.920087700Z"
    }
   },
   "outputs": [],
   "source": [
    "from langchain import LLMChain, PromptTemplate\n",
    "\n",
    "PROMPT = \"\"\"Generate a list of keywords for the following text:\n",
    "\n",
    "```markdown\n",
    "{text}\n",
    "```\n",
    "\n",
    "Give the most import 3-5 Keywords.\n",
    "They should be different and cover the whole topic.\n",
    "\"\"\"\n",
    "prompt = PromptTemplate.from_template(PROMPT)"
   ]
  },
  {
   "cell_type": "code",
   "execution_count": 11,
   "id": "93d20600",
   "metadata": {
    "ExecuteTime": {
     "end_time": "2023-07-28T15:04:44.937945200Z",
     "start_time": "2023-07-28T15:04:44.926798100Z"
    }
   },
   "outputs": [],
   "source": [
    "llm_chain = LLMChain(prompt=prompt, llm=llm, verbose=True)"
   ]
  },
  {
   "cell_type": "code",
   "execution_count": null,
   "outputs": [],
   "source": [
    "with open('ExampleAbstractsFromEcosystem/AI_Tooling.md') as stream:\n",
    "    keywords = llm_chain.run(stream.read())"
   ],
   "metadata": {
    "collapsed": false
   }
  },
  {
   "cell_type": "code",
   "execution_count": 13,
   "id": "2c4c54af",
   "metadata": {
    "ExecuteTime": {
     "end_time": "2023-07-28T15:04:46.848010100Z",
     "start_time": "2023-07-28T15:04:46.842764700Z"
    }
   },
   "outputs": [
    {
     "name": "stdout",
     "output_type": "stream",
     "text": [
      "1. AI Engineering Tools\n",
      "2. Developer Experience\n",
      "3. GitHub CoPilot\n",
      "4. Snyk Code\n",
      "5. GPT-4\n"
     ]
    }
   ],
   "source": [
    "print(keywords)"
   ]
  },
  {
   "cell_type": "code",
   "execution_count": 13,
   "id": "da4c85db",
   "metadata": {
    "ExecuteTime": {
     "end_time": "2023-07-28T15:04:46.851093Z",
     "start_time": "2023-07-28T15:04:46.849544500Z"
    }
   },
   "outputs": [],
   "source": []
  }
 ],
 "metadata": {
  "kernelspec": {
   "display_name": "Python 3 (ipykernel)",
   "language": "python",
   "name": "python3"
  },
  "language_info": {
   "codemirror_mode": {
    "name": "ipython",
    "version": 3
   },
   "file_extension": ".py",
   "mimetype": "text/x-python",
   "name": "python",
   "nbconvert_exporter": "python",
   "pygments_lexer": "ipython3",
   "version": "3.10.10"
  }
 },
 "nbformat": 4,
 "nbformat_minor": 5
}
