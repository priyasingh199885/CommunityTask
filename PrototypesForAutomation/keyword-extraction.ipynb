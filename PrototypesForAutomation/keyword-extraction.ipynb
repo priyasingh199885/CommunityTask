{
 "cells": [
  {
   "cell_type": "code",
   "execution_count": 7,
   "id": "7547cde7",
   "metadata": {
    "ExecuteTime": {
     "end_time": "2023-07-28T15:04:44.901706700Z",
     "start_time": "2023-07-28T15:04:44.897443Z"
    }
   },
   "outputs": [],
   "source": [
    "from llm_commons.langchain.btp_llm import init_llm"
   ]
  },
  {
   "cell_type": "code",
   "execution_count": 8,
   "id": "176b8e8b",
   "metadata": {
    "ExecuteTime": {
     "end_time": "2023-07-28T15:04:44.912019500Z",
     "start_time": "2023-07-28T15:04:44.906718Z"
    }
   },
   "outputs": [],
   "source": [
    "llm = init_llm('gpt-35-turbo', temperature=0., max_tokens=256)"
   ]
  },
  {
   "cell_type": "code",
   "execution_count": 9,
   "id": "c095c33c",
   "metadata": {
    "ExecuteTime": {
     "end_time": "2023-07-28T15:04:44.937945200Z",
     "start_time": "2023-07-28T15:04:44.913022100Z"
    }
   },
   "outputs": [
    {
     "data": {
      "text/plain": "llm_commons.langchain.btp_llm.openai.ChatBTPOpenAI"
     },
     "execution_count": 9,
     "metadata": {},
     "output_type": "execute_result"
    }
   ],
   "source": [
    "type(llm)"
   ]
  },
  {
   "cell_type": "code",
   "execution_count": 10,
   "id": "b9135460",
   "metadata": {
    "ExecuteTime": {
     "end_time": "2023-07-28T15:04:44.937945200Z",
     "start_time": "2023-07-28T15:04:44.920087700Z"
    }
   },
   "outputs": [],
   "source": [
    "from langchain import LLMChain, PromptTemplate\n",
    "\n",
    "PROMPT = \"\"\"Generate a list of keywords for the following text:\n",
    "\n",
    "```markdown\n",
    "{text}\n",
    "```\n",
    "\n",
    "Give the most import 3-5 Keywords.\n",
    "They should be different and cover the whole topic.\n",
    "\"\"\"\n",
    "prompt = PromptTemplate.from_template(PROMPT)"
   ]
  },
  {
   "cell_type": "code",
   "execution_count": 11,
   "id": "93d20600",
   "metadata": {
    "ExecuteTime": {
     "end_time": "2023-07-28T15:04:44.937945200Z",
     "start_time": "2023-07-28T15:04:44.926798100Z"
    }
   },
   "outputs": [],
   "source": [
    "llm_chain = LLMChain(prompt=prompt, llm=llm, verbose=True)"
   ]
  },
  {
   "cell_type": "code",
   "execution_count": 12,
   "id": "74f3c113",
   "metadata": {
    "scrolled": false,
    "ExecuteTime": {
     "end_time": "2023-07-28T15:04:46.841717900Z",
     "start_time": "2023-07-28T15:04:44.932956600Z"
    }
   },
   "outputs": [
    {
     "name": "stdout",
     "output_type": "stream",
     "text": [
      "\n",
      "\n",
      "\u001B[1m> Entering new  chain...\u001B[0m\n",
      "Prompt after formatting:\n",
      "\u001B[32;1m\u001B[1;3mGenerate a list of keywords for the following text:\n",
      "\n",
      "```markdown\n",
      "# Ecosystem: AI Engineering Tools\n",
      "\n",
      "In this session Christian will show you what development looks like when you can use AI based development tools.\n",
      "Currently those tools are usually not allowed for usage within SAP (e.g. [CoPilot](https://sap.stackenterprise.co/questions/3729)). But still it makes sense to learn and explore the capabilities these tools offer.\n",
      "\n",
      "## Abstract\n",
      "\n",
      "With the ever increasing capability of AI there are new tools available that can significantly improve the developer experience.\n",
      "\n",
      "In this session we will show you how we enhanced SAP open source sflight CAP example using AI based commercial tools.\n",
      "Currently those tools are not allowed for usage within SAP. But still makes sense to learn and explore the capabilities these tools offer.\n",
      "\n",
      "- How to generate test data, enhance code and create tests with **GitHub CoPilot**\n",
      "- How to get information on code security and code quality directly in the IDE with **Snyk Code**\n",
      "- How to generate code documentation based on the code directly in the IDE with **Mintlify**\n",
      "- The latest and greatest: Examples for coding with **GPT-4**\n",
      "\n",
      "## Speaker\n",
      "\n",
      "**Dr. Christian Mathias MÃ¼ller** is Product Owner of the SAP AI Core Walldorf team and deeply interested in how AI will change software development practices. In his 17 years at SAP he has worked as Developer, Support Architect, Development Architect, and Product Owner in different industries and platforms, both on-premise and in cloud.\n",
      "\n",
      "**Elham Zamansani** is an AI developer in the AI Workbench team in Walldorf since 2017. Elham has contributed to a variety of projects, predominantly focusing on designing and developing cutting-edge machine learning models. Currently, Elham is channeling her efforts on AI Core and Large Language Models. Elham enjoys leveraging cutting-edge AI tools to uncover new possibilities and drive progress in the field.\n",
      "\n",
      "## [Recording and Slides](https://video.sap.com/media/t/1_jsm1857n/145787301)\n",
      "\n",
      "## How to get involved\n",
      "\n",
      "If you have experience with other AI based tools that might be useful, please reach out to the **Darwin Wijaya Tonny** from IES Artificial Intelligence CoE SE and leave a comment in the [Engineering Ecosystem slack channel][Slack]. \n",
      "Further you can get in contact with Gabriel Marangoni Moita (GitHub@SAP Product Owner) for GitHub CoPilot related questions.\n",
      "\n",
      "## Learning Recommendation\n",
      "\n",
      "The field of AI tools is evolving rapidly, therefore it's best to try and stay current with the latest developments. There are hundreds of tools available and new ones are appearing all the time. The most noteworthy developments will probably be seen here:#\n",
      "\n",
      "- [GitHub CoPilot Blog post on the next generation capabilities](https://github.blog/2023-03-22-github-copilot-x-the-ai-powered-developer-experience/)\n",
      "- [OpenAI blog](https://openai.com/blog)\n",
      "- [DeepMind blog](https://www.deepmind.com/blog)\n",
      "\n",
      "## Overview Page of Past Sessions, Onboarding Material and Newsletters\n",
      "\n",
      "- [The overview of the past sessions, slides, recordings and more can be found on the past session page][Recordings].  The slides are attached to the MediaShare recording.\n",
      "- [Collaborative Onboarding Page for new hires, colleagues switching technology stacks / roles or colleagues looking for inspiration](https://pages.github.tools.sap/Onboarding/Onboarding/#/).\n",
      "- [Past Newsletters can be found in the corresponding folders](https://github.tools.sap/CloudNativeCulture/Ecosystem/tree/master/Newsletter).\n",
      " \n",
      "## Session Metadata\n",
      "\n",
      "```yaml\n",
      "- Date of Evaluation: 2023-07-17\n",
      "- Development Phase:  Code \n",
      "- Adoption Readiness:  Early Adopter\n",
      "- Scopes: General \n",
      "- Topic Clusters: Test Automation, Developer Experience, Security, Artificial Intelligence\n",
      "- External Speaker: No\n",
      "```\n",
      "\n",
      "## Registration List and Communication Channels\n",
      "\n",
      "- If you want to **[get invitations and newsletters for all topics independent of\n",
      "  the technology, you can subscribe to the Distribution List][DL]**. (VPN required)\n",
      "- If you want to **[get invitations and newsletters only for JavaScript / SAPUI5\n",
      "  topics, you can to the Distribution List][Event]**.\n",
      "- **[Engineering Ecosystem Slack Channel #sap-engineering-ecosystem][Slack]**\n",
      "\n",
      "[DL]: https://profiles.wdf.sap.corp/groups/5b7147227bcf84e8be00000f/users\n",
      "[Event]: https://fiorilaunchpad-sapitcloud.dispatcher.hana.ondemand.com/sap/hana/uis/clients/ushell-app/shells/fiori/FioriLaunchpad.html#my-events&/ig=4328714\n",
      "[Recordings]: https://github.tools.sap/CloudNativeCulture/Ecosystem/blob/master/Sessions/PastSessions.md\n",
      "[Slack]: https://my.slack.com/archives/CSP54NFPZ\n",
      "\n",
      "## Facilitator / Curator: Klaus Haeuptle\n",
      "\n",
      "- [**Subscribe to the external newsletter:**](https://ecosystem4engineering.substack.com/p/collaboration-on-improving): Views are my own.\n",
      "- [Follow or connect on LinkedIn](https://www.linkedin.com/in/klaus-h%C3%A4uptle-951a0349/)\n",
      "- [Follow or connect on Mastodon](https://saptodon.org/@klaushaeuptle#)\n",
      "- [Follow on Twitter: @KHaeuptle](https://twitter.com/KHaeuptle)\n",
      "- [Culture Ambassador Network Profile](https://jam4.sapjam.com/discussions/VwPmzklBNtL6YJgQcx0Bnj)\n",
      "\n",
      "\n",
      "[Slack]: https://my.slack.com/archives/CSP54NFPZ\n",
      "\n",
      "```\n",
      "\n",
      "Give the most import 3-5 Keywords.\n",
      "They should be different and cover the whole topic.\n",
      "\u001B[0m\n",
      "\n",
      "\u001B[1m> Finished chain.\u001B[0m\n"
     ]
    }
   ],
   "source": [
    "with open('ExampleAbstractsFromEcosystem/AI_Tooling.md') as stream:\n",
    "    keywords = llm_chain.run(stream.read())"
   ]
  },
  {
   "cell_type": "code",
   "execution_count": 13,
   "id": "2c4c54af",
   "metadata": {
    "ExecuteTime": {
     "end_time": "2023-07-28T15:04:46.848010100Z",
     "start_time": "2023-07-28T15:04:46.842764700Z"
    }
   },
   "outputs": [
    {
     "name": "stdout",
     "output_type": "stream",
     "text": [
      "1. AI Engineering Tools\n",
      "2. Developer Experience\n",
      "3. GitHub CoPilot\n",
      "4. Snyk Code\n",
      "5. GPT-4\n"
     ]
    }
   ],
   "source": [
    "print(keywords)"
   ]
  },
  {
   "cell_type": "code",
   "execution_count": 13,
   "id": "da4c85db",
   "metadata": {
    "ExecuteTime": {
     "end_time": "2023-07-28T15:04:46.851093Z",
     "start_time": "2023-07-28T15:04:46.849544500Z"
    }
   },
   "outputs": [],
   "source": []
  }
 ],
 "metadata": {
  "kernelspec": {
   "display_name": "Python 3 (ipykernel)",
   "language": "python",
   "name": "python3"
  },
  "language_info": {
   "codemirror_mode": {
    "name": "ipython",
    "version": 3
   },
   "file_extension": ".py",
   "mimetype": "text/x-python",
   "name": "python",
   "nbconvert_exporter": "python",
   "pygments_lexer": "ipython3",
   "version": "3.10.10"
  }
 },
 "nbformat": 4,
 "nbformat_minor": 5
}
